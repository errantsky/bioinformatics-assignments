{
 "cells": [
  {
   "cell_type": "markdown",
   "metadata": {},
   "source": [
    "# Intro to Bioinformatics\n",
    "## Homework Assignment 4\n",
    "## Question 3: Hierarchical Attractors\n",
    "\n",
    "## Sepehr Torabparhiz\n",
    "## 93100774\n",
    "\n",
    "### Developed by Python 3.6"
   ]
  },
  {
   "cell_type": "code",
   "execution_count": 1,
   "metadata": {},
   "outputs": [],
   "source": [
    "import numpy as np"
   ]
  },
  {
   "cell_type": "markdown",
   "metadata": {},
   "source": [
    "### Computing Probabilites for each switch"
   ]
  },
  {
   "cell_type": "code",
   "execution_count": 2,
   "metadata": {},
   "outputs": [],
   "source": [
    "endocrine_progenitor_prob = lambda ngn3, ptf1a: 0.001 * (\n",
    "    (ngn3**2 + ngn3) / (ngn3**2 + 1)) * (\n",
    "    (ptf1a**2 + 1) / (ptf1a**2 + ptf1a + 1))\n",
    "\n",
    "beta_delta_progenitor_prob = lambda pax4, arx: 0.005 * (\n",
    "    (pax4**3 + pax4) / (pax4**3 + 1)) * (\n",
    "    (arx**3 + 2) / (arx**3 + arx + 1))\n",
    "\n",
    "beta_cells_prob = lambda mafa, delta: 0.003 * (\n",
    "    (mafa**4 + mafa) / (mafa**4 + 1)) * (\n",
    "    (delta**4 + 1) / (delta**4 + delta**2 + 1))\n"
   ]
  },
  {
   "cell_type": "markdown",
   "metadata": {},
   "source": [
    "Using NumPy's *random.uniform* method, a million random densities for each of the six genes are generated.\n",
    "Then, probabilities of genes winning a switch is computed using the functions written above. Finally, NumPy's *random.choice* is used to find the winner according to the probabilites which are computed. A 1 means that the switch goes toward the creation beta cells.\n",
    "\n",
    "In the Beta/Delta and Beta switches, the probabilty of that switch going toward beta cell creation is multiplied by probability of ending up in that switch.\n"
   ]
  },
  {
   "cell_type": "code",
   "execution_count": 3,
   "metadata": {},
   "outputs": [],
   "source": [
    "def markov_toar():\n",
    "    # Endocrine Progenitor Sampling\n",
    "    ptf1a_densities = np.random.uniform(low=0, high=1, size=10**6)\n",
    "    ngn3_densities = np.random.uniform(low=0, high=1, size=10**6)\n",
    "        \n",
    "    ngn3_win_probs = [\n",
    "        endocrine_progenitor_prob(ngn3, ptf1a) for ngn3, ptf1a in zip(ptf1a_densities, ngn3_densities)]\n",
    "\n",
    "    endoc_prog_outcomes = [\n",
    "        np.random.choice(\n",
    "            [0, 1], p=[1-ngn3_win_prob, ngn3_win_prob]) for ngn3_win_prob in ngn3_win_probs]\n",
    "    \n",
    "    endoc_prog_prob = sum(endoc_prog_outcomes) / 1e6\n",
    "    print(f'Number of Ngn3 wins in a million samples without considering prior probabilites: {sum(endoc_prog_outcomes)}')\n",
    "    print(f'Probabilty of creation of a endocrine progenitor cell: {endoc_prog_prob}')\n",
    "    print('')\n",
    "    \n",
    "    # Beta/Delta Progenitor Sampling\n",
    "    pax4_densities = np.random.uniform(low=0, high=1, size=10**6)\n",
    "    arx_densities = np.random.uniform(low=0, high=1, size=10**6)\n",
    "        \n",
    "    pax4_win_probs = [\n",
    "        beta_delta_progenitor_prob(pax4, arx) for pax4, arx in zip(\n",
    "            pax4_densities, arx_densities)]\n",
    "    \n",
    "    beta_delta_win_probs = [\n",
    "        pax4_win_prob for pax4_win_prob in pax4_win_probs]\n",
    "    \n",
    "    beta_delta_outcomes = [\n",
    "        np.random.choice(\n",
    "            [0, 1], p=[1-beta_delta_win_prob, beta_delta_win_prob]) for beta_delta_win_prob in beta_delta_win_probs]\n",
    "    \n",
    "    # the probabilty of Pax4 winning the switch is multiplied by \n",
    "    # the probabilty of endocrine progenitor winning the previous switch.\n",
    "    beta_delta_prob = sum(beta_delta_outcomes) / 1e6 * endoc_prog_prob\n",
    "    \n",
    "    print(f'Number of Pax4 wins in a million samples without considering prior probabilites: {sum(beta_delta_outcomes)}')\n",
    "    print(f'Probabilty of creation of a Beta/Delta progenitor cell: {beta_delta_prob}')\n",
    "    print('')\n",
    "    \n",
    "    # Beta Cell Sampling\n",
    "    mafa_densities = np.random.uniform(low=0, high=1, size=10**6)\n",
    "    delta_densities = np.random.uniform(low=0, high=1, size=10**6)\n",
    "        \n",
    "    mafa_win_probs = [\n",
    "        beta_cells_prob(mafa, delta) for mafa, delta in zip(\n",
    "            mafa_densities, delta_densities)]\n",
    "    \n",
    "\n",
    "    beta_cell_win_probs = [\n",
    "        mafa_win_prob for mafa_win_prob in mafa_win_probs]\n",
    "        \n",
    "    beta_cell_outcomes = [\n",
    "        np.random.choice(\n",
    "        [0, 1], p=[1-beta_cell_win_prob, beta_cell_win_prob]) for beta_cell_win_prob in beta_cell_win_probs]\n",
    "    \n",
    "    # the probabilty of Mafa winning the switch is multiplied \n",
    "    # by the probabilty of Ngn3 and Pax4 winning the previous switches.\n",
    "    beta_cell_prob = sum(beta_cell_outcomes) / 1e6 * beta_delta_prob\n",
    "    \n",
    "    print(f'Number of Mafa wins in a million samples without considering prior probabilites: {sum(beta_cell_outcomes)}')\n",
    "    print(f'Probabilty of creation of a Beta cell: {beta_cell_prob}')\n",
    "    print('')\n",
    "    "
   ]
  },
  {
   "cell_type": "code",
   "execution_count": 4,
   "metadata": {},
   "outputs": [
    {
     "name": "stdout",
     "output_type": "stream",
     "text": [
      "Number of Ngn3 wins in a million samples without considering prior probabilites: 420\n",
      "Probabilty of creation of a endocrine progenitor cell: 0.00042\n",
      "\n",
      "Number of Pax4 wins in a million samples without considering prior probabilites: 3630\n",
      "Probabilty of creation of a Beta/Delta progenitor cell: 1.5246e-06\n",
      "\n",
      "Number of Mafa wins in a million samples without considering prior probabilites: 1284\n",
      "Probabilty of creation of a Beta cell: 1.9575864e-09\n",
      "\n",
      "CPU times: user 1min 28s, sys: 1.35 s, total: 1min 30s\n",
      "Wall time: 1min 32s\n"
     ]
    }
   ],
   "source": [
    "%%time\n",
    "markov_toar()"
   ]
  },
  {
   "cell_type": "code",
   "execution_count": null,
   "metadata": {},
   "outputs": [],
   "source": []
  }
 ],
 "metadata": {
  "kernelspec": {
   "display_name": "Python 3",
   "language": "python",
   "name": "python3"
  },
  "language_info": {
   "codemirror_mode": {
    "name": "ipython",
    "version": 3
   },
   "file_extension": ".py",
   "mimetype": "text/x-python",
   "name": "python",
   "nbconvert_exporter": "python",
   "pygments_lexer": "ipython3",
   "version": "3.6.4"
  }
 },
 "nbformat": 4,
 "nbformat_minor": 2
}
